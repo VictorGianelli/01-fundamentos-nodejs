{
  "nbformat": 4,
  "nbformat_minor": 0,
  "metadata": {
    "colab": {
      "provenance": [],
      "authorship_tag": "ABX9TyOnOOoENrhD1yjs+Z9lWpAo",
      "include_colab_link": true
    },
    "kernelspec": {
      "name": "python3",
      "display_name": "Python 3"
    },
    "language_info": {
      "name": "python"
    }
  },
  "cells": [
    {
      "cell_type": "markdown",
      "metadata": {
        "id": "view-in-github",
        "colab_type": "text"
      },
      "source": [
        "<a href=\"https://colab.research.google.com/github/VictorGianelli/01-fundamentos-nodejs/blob/main/Dataset_Pets.ipynb\" target=\"_parent\"><img src=\"https://colab.research.google.com/assets/colab-badge.svg\" alt=\"Open In Colab\"/></a>"
      ]
    },
    {
      "cell_type": "code",
      "execution_count": 7,
      "metadata": {
        "colab": {
          "base_uri": "https://localhost:8080/"
        },
        "id": "TWDw0mfYOD8T",
        "outputId": "b21438c5-03b9-4184-dda5-9e846a515aa8"
      },
      "outputs": [
        {
          "output_type": "stream",
          "name": "stdout",
          "text": [
            "fatal: destination path 'BairesDev-DIO' already exists and is not an empty directory.\n"
          ]
        }
      ],
      "source": [
        "! git clone https://github.com/fenads/BairesDev-DIO.git"
      ]
    },
    {
      "cell_type": "code",
      "source": [
        "%matplotlib inline\n",
        "\n",
        "import os\n",
        "import random\n",
        "import numpy as np\n",
        "import keras\n",
        "import tensorflow as tf\n",
        "import matplotlib.pyplot as plt\n",
        "\n",
        "\n",
        "from matplotlib.pyplot import imshow\n",
        "from keras.preprocessing import image\n",
        "from keras.applications.imagenet_utils import preprocess_input\n",
        "from keras.models import Sequential\n",
        "from keras.layers import Dense, Dropout, Flatten, Activation\n",
        "from keras.layers import Conv2D, MaxPooling2D\n",
        "from keras.models import Model"
      ],
      "metadata": {
        "id": "_5aHhBCZbY-O"
      },
      "execution_count": 2,
      "outputs": []
    },
    {
      "cell_type": "code",
      "source": [
        "import tensorflow as tf\n",
        "\n",
        "def validate_image(file_path):\n",
        "    try:\n",
        "        img = tf.io.read_file(file_path)\n",
        "        img = tf.image.decode_image(img, channels=3)\n",
        "        return True\n",
        "    except:\n",
        "        return False\n",
        "\n",
        "dataset_path = '/content/BairesDev-DIO/Dataset-Pets'\n",
        "valid_files = []\n",
        "\n",
        "for root, dirs, files in os.walk(dataset_path):\n",
        "    for file in files:\n",
        "        file_path = os.path.join(root, file)\n",
        "        if file.lower().endswith(('.jpg', '.jpeg', '.png', '.gif', '.bmp')) and validate_image(file_path):\n",
        "            valid_files.append(file_path)\n",
        "        else:\n",
        "            print(f\"Arquivo inválido: {file_path}\")\n"
      ],
      "metadata": {
        "id": "k2EfEqVkbzK2"
      },
      "execution_count": 3,
      "outputs": []
    },
    {
      "cell_type": "code",
      "source": [
        "root = '/content/BairesDev-DIO/Dataset-Pets/'\n",
        "exclude = ['BACKGROUND_Google', 'Motorbikes', 'airplanes', 'Faces_easy', 'Faces']\n",
        "\n",
        "# Abaixo especifique a taxa de treino e validação\n",
        "# Exemplo 7% = 0.7 e 15% = 0.15\n",
        "train_split, val_split = 0.7, 0.15\n",
        "\n",
        "\n",
        "categories = [x[0] for x in os.walk(root) if x[0]][1:]\n",
        "categories = [c for c in categories if c not in [os.path.join(root, e) for e in exclude]]\n",
        "\n",
        "\n",
        "print(categories)"
      ],
      "metadata": {
        "colab": {
          "base_uri": "https://localhost:8080/"
        },
        "id": "KktsW1KEgCH8",
        "outputId": "5635ec89-c9e8-4115-9855-625ac3247581"
      },
      "execution_count": 8,
      "outputs": [
        {
          "output_type": "stream",
          "name": "stdout",
          "text": [
            "['/content/BairesDev-DIO/Dataset-Pets/Cat', '/content/BairesDev-DIO/Dataset-Pets/.ipynb_checkpoints', '/content/BairesDev-DIO/Dataset-Pets/Dog']\n"
          ]
        }
      ]
    },
    {
      "cell_type": "code",
      "source": [
        "% rm -rf /content/BairesDev-DIO/Dataset-Pragas\n"
      ],
      "metadata": {
        "id": "uXfk1GDvh6H9"
      },
      "execution_count": 5,
      "outputs": []
    },
    {
      "cell_type": "code",
      "source": [
        "%cd teste"
      ],
      "metadata": {
        "colab": {
          "base_uri": "https://localhost:8080/"
        },
        "id": "nhMRTg8llSWL",
        "outputId": "d1ec4647-e426-47d7-ba94-2ccd44593be6"
      },
      "execution_count": 6,
      "outputs": [
        {
          "output_type": "stream",
          "name": "stdout",
          "text": [
            "[Errno 2] No such file or directory: 'teste'\n",
            "/content\n"
          ]
        }
      ]
    }
  ]
}